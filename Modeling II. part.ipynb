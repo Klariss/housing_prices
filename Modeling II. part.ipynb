{
 "cells": [
  {
   "cell_type": "markdown",
   "metadata": {},
   "source": [
    "<img src=\"http://imgur.com/1ZcRyrc.png\" style=\"float: left; margin: 15px; height: 80px\">\n",
    "\n",
    "\n",
    "# Regression and Classification with the Ames Housing Data\n",
    "\n",
    "\n",
    "## Modeling II. part\n",
    "\n",
    "---\n",
    "\n"
   ]
  },
  {
   "cell_type": "markdown",
   "metadata": {},
   "source": [
    "The aim of the project is building a reliable estimator for the price of the house given characteristics of the house.\n",
    "\n",
    "The first part of the modeling is about estimating the value of homes from fixed characteristics.\n",
    "Then the second part of the modelling is to determine any value of changeable property characteristics unexplained by the fixed ones.\n",
    "\n",
    "\n",
    "## Determinating any value of changeable property characteristics unexplained by the fixed ones.\n",
    "\n",
    "---\n",
    "\n",
    "Some examples of things that ARE renovateable:\n",
    "\n",
    "Roof and exterior features\n",
    "\"Quality\" metrics, such as kitchen quality\n",
    "\"Condition\" metrics, such as condition of garage\n",
    "Heating and electrical components\n",
    "and generally anything you deem can be modified without having to undergo major construction on the house.\n",
    "\n",
    "\n",
    "\n",
    "- Train a model on pre-2010 data and evaluate its performance on the 2010 houses.\n",
    "- Characterize your model. How well does it perform? What are the best estimates of price?\n"
   ]
  },
  {
   "cell_type": "markdown",
   "metadata": {},
   "source": [
    "<img src=\"http://imgur.com/l5NasQj.png\" style=\"float: left; margin: 25px 15px 0px 0px; height: 25px\">\n",
    "\n",
    "## Modeling on the reno\n",
    "\n",
    "---\n",
    "\n",
    "The goal here is to determine any value of *changeable* property characteristics unexplained by the *fixed* ones.\n",
    "\n",
    "Now that you have a model that estimates the price of a house based on its static characteristics, we can move forward with part 2 and 3 of the plan: what are the costs/benefits of quality, condition, and renovations?\n",
    "\n",
    "There are two specific requirements for these estimates:\n",
    "1. The estimates of effects must be in terms of dollars added or subtracted from the house value. \n",
    "2. The effects must be on the variance in price remaining from the first model.\n",
    "\n",
    "The residuals from the first model (training and testing) represent the variance in price unexplained by the fixed characteristics. Of that variance in price remaining, how much of it can be explained by the easy-to-change aspects of the property?\n",
    "\n",
    "---\n",
    "\n",
    "**Your goals:**\n",
    "1. Evaluate the effect in dollars of the renovatable features. \n",
    "- How would your company use this second model and its coefficients to determine whether they should buy a property or not? Explain how the company can use the two models you have built to determine if they can make money. \n",
    "- Investigate how much of the variance in price remaining is explained by these features.\n",
    "- Do you trust your model? Should it be used to evaluate which properties to buy and fix up?"
   ]
  },
  {
   "cell_type": "code",
   "execution_count": 45,
   "metadata": {},
   "outputs": [],
   "source": [
    "import statsmodels.formula.api as sm\n",
    "import patsy\n",
    "from sklearn.linear_model import RidgeCV"
   ]
  },
  {
   "cell_type": "code",
   "execution_count": 46,
   "metadata": {},
   "outputs": [],
   "source": [
    "# get out the residuals for training and testing, in terms of dollars.\n",
    "tr_resids = y_train - optimal_ridge.predict(X_train)\n",
    "te_resids = y_test- optimal_ridge.predict(X_test)"
   ]
  },
  {
   "cell_type": "code",
   "execution_count": 47,
   "metadata": {},
   "outputs": [],
   "source": [
    "# things that could be done via renovation:\n",
    "renovations = ['YrSold','RoofStyle','Exterior1st','ExterCond',\n",
    "              'BsmtCond','HeatingQC','CentralAir','Electrical',\n",
    "              'GarageFinish','GarageCond','PavedDrive',\n",
    "              'ExterQual','BsmtQual','GarageQual','KitchenQual',\n",
    "              'FireplaceQu']"
   ]
  },
  {
   "cell_type": "code",
   "execution_count": 48,
   "metadata": {},
   "outputs": [],
   "source": [
    "renovation_f = '~ '+' + '.join(renovations)+' -1'"
   ]
  },
  {
   "cell_type": "code",
   "execution_count": 49,
   "metadata": {},
   "outputs": [
    {
     "data": {
      "text/plain": [
       "(1459, 68)"
      ]
     },
     "execution_count": 49,
     "metadata": {},
     "output_type": "execute_result"
    }
   ],
   "source": [
    "# make the renovation predictor matrix\n",
    "Xren = patsy.dmatrix(renovation_f, data=house, return_type='dataframe')\n",
    "Xren.shape"
   ]
  },
  {
   "cell_type": "code",
   "execution_count": 51,
   "metadata": {},
   "outputs": [],
   "source": [
    "# standardize it\n",
    "scaler = StandardScaler()\n",
    "Xrens = scaler.fit_transform(Xren)"
   ]
  },
  {
   "cell_type": "code",
   "execution_count": 52,
   "metadata": {},
   "outputs": [],
   "source": [
    "# split by year again\n",
    "inds_recent = h.YrSold == 2010\n",
    "Xren_tr, Xren_te = Xrens[~inds_recent.values], Xrens[inds_recent.values]"
   ]
  },
  {
   "cell_type": "code",
   "execution_count": 53,
   "metadata": {},
   "outputs": [],
   "source": [
    "ren_cv = RidgeCV(alphas=np.logspace(-5,4,300), cv=10)"
   ]
  },
  {
   "cell_type": "code",
   "execution_count": 54,
   "metadata": {},
   "outputs": [
    {
     "data": {
      "text/plain": [
       "(1284, 68)"
      ]
     },
     "execution_count": 54,
     "metadata": {},
     "output_type": "execute_result"
    }
   ],
   "source": [
    "Xren_tr.shape"
   ]
  },
  {
   "cell_type": "code",
   "execution_count": 55,
   "metadata": {},
   "outputs": [
    {
     "name": "stderr",
     "output_type": "stream",
     "text": [
      "/Users/klara/anaconda3/lib/python3.6/site-packages/sklearn/model_selection/_search.py:841: DeprecationWarning: The default of the `iid` parameter will change from True to False in version 0.22 and will be removed in 0.24. This will change numeric results when test-set sizes are unequal.\n",
      "  DeprecationWarning)\n"
     ]
    },
    {
     "data": {
      "text/plain": [
       "RidgeCV(alphas=array([1.00000e-05, 1.07177e-05, ..., 9.33039e+03, 1.00000e+04]),\n",
       "    cv=10, fit_intercept=True, gcv_mode=None, normalize=False,\n",
       "    scoring=None, store_cv_values=False)"
      ]
     },
     "execution_count": 55,
     "metadata": {},
     "output_type": "execute_result"
    }
   ],
   "source": [
    "ren_cv.fit(Xren_tr, tr_resids)"
   ]
  },
  {
   "cell_type": "code",
   "execution_count": 56,
   "metadata": {},
   "outputs": [
    {
     "data": {
      "text/plain": [
       "884.0733401525063"
      ]
     },
     "execution_count": 56,
     "metadata": {},
     "output_type": "execute_result"
    }
   ],
   "source": [
    "ren_cv.alpha_"
   ]
  },
  {
   "cell_type": "code",
   "execution_count": 57,
   "metadata": {},
   "outputs": [
    {
     "data": {
      "text/plain": [
       "0.16528798449551152"
      ]
     },
     "execution_count": 57,
     "metadata": {},
     "output_type": "execute_result"
    }
   ],
   "source": [
    "ren_cv.score(Xren_tr, tr_resids)"
   ]
  },
  {
   "cell_type": "code",
   "execution_count": 58,
   "metadata": {},
   "outputs": [
    {
     "data": {
      "text/plain": [
       "0.1878237217720891"
      ]
     },
     "execution_count": 58,
     "metadata": {},
     "output_type": "execute_result"
    }
   ],
   "source": [
    "ren_cv.score(Xren_te, te_resids)"
   ]
  },
  {
   "cell_type": "markdown",
   "metadata": {},
   "source": [
    "We are explaining 19% of the variance in the remaining variance in price explained by the fixed characteristics of the house."
   ]
  },
  {
   "cell_type": "code",
   "execution_count": 62,
   "metadata": {},
   "outputs": [],
   "source": [
    "renovation_coefs = pd.DataFrame(dict(coef=ren_cv.coef_,\n",
    "                                     abscoef=np.abs(ren_cv.coef_),\n",
    "                                     feature=Xren.columns))"
   ]
  },
  {
   "cell_type": "markdown",
   "metadata": {},
   "source": [
    "Below I am sorting by coef magnitude for the model.\n",
    " \n",
    "We are predicting the residuals, the error in price for the first model overestimating the price for a house.\n",
    "\n",
    "We can use these features to evaluate how much in dollars a renovation is worth. For example if we wanted to upgrade a fireplace from \"fair\" (TA) to \"good\" (Gd) then we would evaluate the differences in their coefficients.\n",
    "The good fireplace is less negative than the average. The difference between them is an estimate of how much value we would gain making that change."
   ]
  },
  {
   "cell_type": "code",
   "execution_count": 66,
   "metadata": {},
   "outputs": [
    {
     "data": {
      "text/html": [
       "<div>\n",
       "<style scoped>\n",
       "    .dataframe tbody tr th:only-of-type {\n",
       "        vertical-align: middle;\n",
       "    }\n",
       "\n",
       "    .dataframe tbody tr th {\n",
       "        vertical-align: top;\n",
       "    }\n",
       "\n",
       "    .dataframe thead th {\n",
       "        text-align: right;\n",
       "    }\n",
       "</style>\n",
       "<table border=\"1\" class=\"dataframe\">\n",
       "  <thead>\n",
       "    <tr style=\"text-align: right;\">\n",
       "      <th></th>\n",
       "      <th>coef</th>\n",
       "      <th>abscoef</th>\n",
       "      <th>feature</th>\n",
       "    </tr>\n",
       "  </thead>\n",
       "  <tbody>\n",
       "    <tr>\n",
       "      <th>25</th>\n",
       "      <td>7897.298260</td>\n",
       "      <td>7897.298260</td>\n",
       "      <td>BsmtCond[T.None]</td>\n",
       "    </tr>\n",
       "    <tr>\n",
       "      <th>52</th>\n",
       "      <td>7897.298260</td>\n",
       "      <td>7897.298260</td>\n",
       "      <td>BsmtQual[T.None]</td>\n",
       "    </tr>\n",
       "    <tr>\n",
       "      <th>66</th>\n",
       "      <td>6596.769331</td>\n",
       "      <td>6596.769331</td>\n",
       "      <td>FireplaceQu[T.TA]</td>\n",
       "    </tr>\n",
       "    <tr>\n",
       "      <th>49</th>\n",
       "      <td>5912.081767</td>\n",
       "      <td>5912.081767</td>\n",
       "      <td>ExterQual[T.TA]</td>\n",
       "    </tr>\n",
       "    <tr>\n",
       "      <th>14</th>\n",
       "      <td>5519.156430</td>\n",
       "      <td>5519.156430</td>\n",
       "      <td>Exterior1st[T.Plywood]</td>\n",
       "    </tr>\n",
       "    <tr>\n",
       "      <th>63</th>\n",
       "      <td>-5368.503639</td>\n",
       "      <td>5368.503639</td>\n",
       "      <td>FireplaceQu[T.Gd]</td>\n",
       "    </tr>\n",
       "    <tr>\n",
       "      <th>61</th>\n",
       "      <td>5313.700526</td>\n",
       "      <td>5313.700526</td>\n",
       "      <td>KitchenQual[T.TA]</td>\n",
       "    </tr>\n",
       "    <tr>\n",
       "      <th>38</th>\n",
       "      <td>-5154.258612</td>\n",
       "      <td>5154.258612</td>\n",
       "      <td>GarageFinish[T.RFn]</td>\n",
       "    </tr>\n",
       "    <tr>\n",
       "      <th>53</th>\n",
       "      <td>3873.819388</td>\n",
       "      <td>3873.819388</td>\n",
       "      <td>BsmtQual[T.TA]</td>\n",
       "    </tr>\n",
       "    <tr>\n",
       "      <th>12</th>\n",
       "      <td>-3400.112243</td>\n",
       "      <td>3400.112243</td>\n",
       "      <td>Exterior1st[T.ImStucc]</td>\n",
       "    </tr>\n",
       "    <tr>\n",
       "      <th>57</th>\n",
       "      <td>-3260.276520</td>\n",
       "      <td>3260.276520</td>\n",
       "      <td>GarageQual[T.Po]</td>\n",
       "    </tr>\n",
       "    <tr>\n",
       "      <th>47</th>\n",
       "      <td>3177.120085</td>\n",
       "      <td>3177.120085</td>\n",
       "      <td>ExterQual[T.Fa]</td>\n",
       "    </tr>\n",
       "    <tr>\n",
       "      <th>3</th>\n",
       "      <td>-3094.591090</td>\n",
       "      <td>3094.591090</td>\n",
       "      <td>RoofStyle[Hip]</td>\n",
       "    </tr>\n",
       "    <tr>\n",
       "      <th>8</th>\n",
       "      <td>3077.089487</td>\n",
       "      <td>3077.089487</td>\n",
       "      <td>Exterior1st[T.BrkFace]</td>\n",
       "    </tr>\n",
       "    <tr>\n",
       "      <th>27</th>\n",
       "      <td>-3071.069589</td>\n",
       "      <td>3071.069589</td>\n",
       "      <td>BsmtCond[T.TA]</td>\n",
       "    </tr>\n",
       "  </tbody>\n",
       "</table>\n",
       "</div>"
      ],
      "text/plain": [
       "           coef      abscoef                 feature\n",
       "25  7897.298260  7897.298260        BsmtCond[T.None]\n",
       "52  7897.298260  7897.298260        BsmtQual[T.None]\n",
       "66  6596.769331  6596.769331       FireplaceQu[T.TA]\n",
       "49  5912.081767  5912.081767         ExterQual[T.TA]\n",
       "14  5519.156430  5519.156430  Exterior1st[T.Plywood]\n",
       "63 -5368.503639  5368.503639       FireplaceQu[T.Gd]\n",
       "61  5313.700526  5313.700526       KitchenQual[T.TA]\n",
       "38 -5154.258612  5154.258612     GarageFinish[T.RFn]\n",
       "53  3873.819388  3873.819388          BsmtQual[T.TA]\n",
       "12 -3400.112243  3400.112243  Exterior1st[T.ImStucc]\n",
       "57 -3260.276520  3260.276520        GarageQual[T.Po]\n",
       "47  3177.120085  3177.120085         ExterQual[T.Fa]\n",
       "3  -3094.591090  3094.591090          RoofStyle[Hip]\n",
       "8   3077.089487  3077.089487  Exterior1st[T.BrkFace]\n",
       "27 -3071.069589  3071.069589          BsmtCond[T.TA]"
      ]
     },
     "execution_count": 66,
     "metadata": {},
     "output_type": "execute_result"
    }
   ],
   "source": [
    "renovation_coefs.sort_values('abscoef', ascending=False, inplace=True)\n",
    "renovation_coefs.head(15)"
   ]
  },
  {
   "cell_type": "code",
   "execution_count": null,
   "metadata": {},
   "outputs": [],
   "source": []
  }
 ],
 "metadata": {
  "kernelspec": {
   "display_name": "Python 3",
   "language": "python",
   "name": "python3"
  },
  "language_info": {
   "codemirror_mode": {
    "name": "ipython",
    "version": 3
   },
   "file_extension": ".py",
   "mimetype": "text/x-python",
   "name": "python",
   "nbconvert_exporter": "python",
   "pygments_lexer": "ipython3",
   "version": "3.6.6"
  },
  "toc": {
   "nav_menu": {},
   "number_sections": false,
   "sideBar": true,
   "skip_h1_title": true,
   "title_cell": "Table of Contents",
   "title_sidebar": "Contents",
   "toc_cell": false,
   "toc_position": {},
   "toc_section_display": "block",
   "toc_window_display": false
  }
 },
 "nbformat": 4,
 "nbformat_minor": 2
}
